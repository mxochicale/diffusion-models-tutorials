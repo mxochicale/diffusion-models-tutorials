{
 "cells": [
  {
   "cell_type": "code",
   "execution_count": 2,
   "id": "4beff908",
   "metadata": {
    "ExecuteTime": {
     "end_time": "2022-12-28T18:01:02.937933Z",
     "start_time": "2022-12-28T18:01:02.933679Z"
    }
   },
   "outputs": [],
   "source": [
    "import os\n",
    "import numpy as np\n",
    "import torch\n",
    "from torch.utils.data import DataLoader\n",
    "\n",
    "import torchvision\n",
    "from torchvision import transforms\n",
    "\n",
    "import matplotlib.pyplot as plt\n",
    "\n",
    "## References\n",
    "## https://github.com/MedMNIST/MedMNIST/blob/main/medmnist/dataset.py\n",
    "\n"
   ]
  },
  {
   "cell_type": "code",
   "execution_count": 3,
   "id": "f83bc447",
   "metadata": {
    "ExecuteTime": {
     "end_time": "2022-12-28T18:01:03.727954Z",
     "start_time": "2022-12-28T18:01:03.724372Z"
    }
   },
   "outputs": [
    {
     "name": "stdout",
     "output_type": "stream",
     "text": [
      "/home/mxochicale/repositories/mxochicale/diffusion-models-tutorials/datasets/MedMNISTv2/breastmnist.npz\n"
     ]
    }
   ],
   "source": [
    "mycwd = os.getcwd()\n",
    "# print(mycwd)\n",
    "os.chdir(\"../..\")\n",
    "path_datasets_filename = os.getcwd()+'/datasets/MedMNISTv2/breastmnist.npz'\n",
    "print(path_datasets_filename)"
   ]
  },
  {
   "cell_type": "code",
   "execution_count": 18,
   "id": "1600a4a7",
   "metadata": {
    "ExecuteTime": {
     "end_time": "2022-12-28T18:08:17.464022Z",
     "start_time": "2022-12-28T18:08:17.455395Z"
    }
   },
   "outputs": [
    {
     "name": "stdout",
     "output_type": "stream",
     "text": [
      "<class 'numpy.lib.npyio.NpzFile'>\n",
      "KeysView(<numpy.lib.npyio.NpzFile object at 0x7f08d71e7730>)\n",
      "(546, 28, 28)\n",
      "(546, 1)\n",
      "uint8\n",
      "float32\n"
     ]
    }
   ],
   "source": [
    "npz_file = np.load(path_datasets_filename)\n",
    "\n",
    "print(type(npz_file)) #lib.npyio.NpzFile\n",
    "print(npz_file.keys())#KeysView(<numpy.lib.npyio.NpzFile object at 0x7f5ac597d9f0>)\n",
    "\n",
    "train_imgs = npz_file['train_images']\n",
    "train_labels = npz_file['train_labels']\n",
    "#             self.imgs = npz_file['val_images']\n",
    "#             self.labels = npz_file['val_labels']\n",
    "#             self.imgs = npz_file['test_images']\n",
    "#             self.labels = npz_file['test_labels']\n",
    "\n",
    "print(train_imgs.shape)#(546, 28, 28)\n",
    "print(train_labels.shape)#(546, 1)\n",
    "print(train_imgs.dtype) #uint8\n",
    "\n",
    "train_imgs_float32 = train_imgs.astype(np.float32)\n",
    "print(train_imgs_float32.dtype) #float32\n",
    "\n",
    "\n",
    "\n"
   ]
  },
  {
   "cell_type": "code",
   "execution_count": 19,
   "id": "ca535fd4",
   "metadata": {
    "ExecuteTime": {
     "end_time": "2022-12-28T18:08:21.017437Z",
     "start_time": "2022-12-28T18:08:21.014920Z"
    }
   },
   "outputs": [],
   "source": [
    "# print(train_labels[0:400])"
   ]
  },
  {
   "cell_type": "code",
   "execution_count": 22,
   "id": "63c3b5dd",
   "metadata": {
    "ExecuteTime": {
     "end_time": "2022-12-28T18:10:30.180925Z",
     "start_time": "2022-12-28T18:10:30.177541Z"
    }
   },
   "outputs": [
    {
     "name": "stdout",
     "output_type": "stream",
     "text": [
      "<class 'torch.Tensor'>\n",
      "torch.Size([546, 28, 28])\n",
      "torch.Size([1, 546, 28, 28])\n",
      "torch.Size([546, 1, 28, 28])\n",
      "torch.uint8\n",
      "torch.int64\n",
      "torch.float32\n",
      "546\n"
     ]
    }
   ],
   "source": [
    "imagesTensor = torch.tensor(train_imgs)\n",
    "\n",
    "print(type(imagesTensor))#<class 'torch.Tensor'>\n",
    "print(imagesTensor.shape)\n",
    "imagesTensor = torch.unsqueeze(imagesTensor, 0)\n",
    "print(imagesTensor_float32.shape)\n",
    "imagesTensor = torch.permute(imagesTensor, (1, 0, 2, 3))\n",
    "print(imagesTensor.shape)\n",
    "\n",
    "# number_of_output_channels = 1\n",
    "# transform = transforms.Grayscale(num_output_channels=number_of_output_channels)\n",
    "# imagesTensorGray = transform(imagesTensor)\n",
    "# print(imagesTensorGray.shape)#torch.Size([1080, 1, 28, 28])\n",
    "\n",
    "print(imagesTensor.dtype) #torch.uint8\n",
    "imagesTensor_int64 = imagesTensor.to(torch.long)\n",
    "imagesTensor_float32 = imagesTensor.to(torch.float32) \n",
    "# imagesTensorGray_float32 = torch.cuda.FloatTensor(imagesTensorGray)\n",
    "#https://pytorch.org/docs/stable/tensors.html\n",
    "\n",
    "print(imagesTensor_int64.dtype) #torch.int64\n",
    "print(imagesTensor_float32.dtype) #torch.float32\n",
    "\n",
    "\n",
    "\n",
    "print(iimagesTensor_float32.shape[0])\n",
    "number_of_images = imagesTensor.shape[0]\n"
   ]
  },
  {
   "cell_type": "code",
   "execution_count": 32,
   "id": "04687871",
   "metadata": {
    "ExecuteTime": {
     "end_time": "2022-12-28T18:13:46.188983Z",
     "start_time": "2022-12-28T18:13:46.185372Z"
    }
   },
   "outputs": [
    {
     "name": "stdout",
     "output_type": "stream",
     "text": [
      "BATCHES_SIZE 182.0 or len(dataloader) 182\n"
     ]
    }
   ],
   "source": [
    "BATCH_SIZE=3\n",
    "BATCHES_SIZE=number_of_images/BATCH_SIZE\n",
    "dataloader = DataLoader(imagesTensor_float32, batch_size=BATCH_SIZE, shuffle=True)\n",
    "print(f'BATCHES_SIZE {BATCHES_SIZE} or len(dataloader) {len(dataloader)}')\n"
   ]
  },
  {
   "cell_type": "code",
   "execution_count": 33,
   "id": "b6ff102f",
   "metadata": {
    "ExecuteTime": {
     "end_time": "2022-12-28T18:13:46.959980Z",
     "start_time": "2022-12-28T18:13:46.779542Z"
    }
   },
   "outputs": [
    {
     "name": "stdout",
     "output_type": "stream",
     "text": [
      "batch_idx: 0; sampled images in the batch: 0 of 546\n",
      "    img.shape: torch.Size([3, 1, 28, 28])\n",
      "    img.dtype: torch.float32\n",
      "    grid_img.shape: torch.Size([3, 32, 92])\n"
     ]
    },
    {
     "data": {
      "image/png": "[encoded data removed]",
      "text/plain": [
       "<Figure size 640x480 with 1 Axes>"
      ]
     },
     "metadata": {},
     "output_type": "display_data"
    },
    {
     "name": "stdout",
     "output_type": "stream",
     "text": [
      "batch_idx: 50; sampled images in the batch: 150 of 546\n",
      "    img.shape: torch.Size([3, 1, 28, 28])\n",
      "    img.dtype: torch.float32\n",
      "    grid_img.shape: torch.Size([3, 32, 92])\n"
     ]
    },
    {
     "data": {
      "image/png": "[encoded data removed]",
      "text/plain": [
       "<Figure size 640x480 with 1 Axes>"
      ]
     },
     "metadata": {},
     "output_type": "display_data"
    },
    {
     "name": "stdout",
     "output_type": "stream",
     "text": [
      "batch_idx: 100; sampled images in the batch: 300 of 546\n",
      "    img.shape: torch.Size([3, 1, 28, 28])\n",
      "    img.dtype: torch.float32\n",
      "    grid_img.shape: torch.Size([3, 32, 92])\n"
     ]
    },
    {
     "data": {
      "image/png": "[encoded data removed]",
      "text/plain": [
       "<Figure size 640x480 with 1 Axes>"
      ]
     },
     "metadata": {},
     "output_type": "display_data"
    },
    {
     "name": "stdout",
     "output_type": "stream",
     "text": [
      "batch_idx: 150; sampled images in the batch: 450 of 546\n",
      "    img.shape: torch.Size([3, 1, 28, 28])\n",
      "    img.dtype: torch.float32\n",
      "    grid_img.shape: torch.Size([3, 32, 92])\n"
     ]
    },
    {
     "data": {
      "image/png": "[encoded data removed]",
      "text/plain": [
       "<Figure size 640x480 with 1 Axes>"
      ]
     },
     "metadata": {},
     "output_type": "display_data"
    }
   ],
   "source": [
    "## Displaying dataloader content\n",
    "len_dataloader = len(dataloader)\n",
    "\n",
    "for batch_idx, batch in enumerate(dataloader):  #iterate through each batch    \n",
    "    if batch_idx % 50 == 0:\n",
    "        print(f'batch_idx: {batch_idx}; sampled images in the batch: { batch_idx*BATCH_SIZE } of {number_of_images}')\n",
    "        #print(batch.shape)\n",
    "        img = batch\n",
    "        print(f'    img.shape: {img.shape}') #torch.Size([BATCH_SIZE, 1, 64, 64])\n",
    "        print(f'    img.dtype: {img.dtype}') #torch.Size([BATCH_SIZE, 1, 64, 64])\n",
    "\n",
    "        grid_img = torchvision.utils.make_grid(img) #also (img, nrow=10)\n",
    "        print(f'    grid_img.shape: {grid_img.shape}')#torch.Size([3, 482, 242])\n",
    "        #plt.imshow(grid_img.permute(1, 2, 0)) \n",
    "        plt.imshow(grid_img.permute(1, 2, 0).cpu().numpy().astype(\"uint8\")) \n",
    "\n",
    "        plt.show()\n",
    "    \n",
    "    "
   ]
  },
  {
   "cell_type": "code",
   "execution_count": 8,
   "id": "228d1e7b",
   "metadata": {
    "ExecuteTime": {
     "end_time": "2022-12-28T16:31:11.762975Z",
     "start_time": "2022-12-28T16:31:11.761251Z"
    }
   },
   "outputs": [],
   "source": [
    "# ls -la"
   ]
  },
  {
   "cell_type": "code",
   "execution_count": 9,
   "id": "e916cc49",
   "metadata": {
    "ExecuteTime": {
     "end_time": "2022-12-28T16:31:11.766323Z",
     "start_time": "2022-12-28T16:31:11.763675Z"
    }
   },
   "outputs": [],
   "source": [
    "os.chdir(mycwd)    # go back where you came from"
   ]
  },
  {
   "cell_type": "code",
   "execution_count": null,
   "id": "4b04551b",
   "metadata": {},
   "outputs": [],
   "source": []
  }
 ],
 "metadata": {
  "kernelspec": {
   "display_name": "Python 3 (ipykernel)",
   "language": "python",
   "name": "python3"
  },
  "language_info": {
   "codemirror_mode": {
    "name": "ipython",
    "version": 3
   },
   "file_extension": ".py",
   "mimetype": "text/x-python",
   "name": "python",
   "nbconvert_exporter": "python",
   "pygments_lexer": "ipython3",
   "version": "3.10.8"
  }
 },
 "nbformat": 4,
 "nbformat_minor": 5
}
