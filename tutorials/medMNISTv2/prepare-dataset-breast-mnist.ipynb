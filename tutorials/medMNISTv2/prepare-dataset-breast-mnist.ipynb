{
 "cells": [
  {
   "cell_type": "code",
   "execution_count": 1,
   "id": "4beff908",
   "metadata": {
    "ExecuteTime": {
     "end_time": "2023-01-02T16:36:20.731165Z",
     "start_time": "2023-01-02T16:36:20.063664Z"
    }
   },
   "outputs": [],
   "source": [
    "import os\n",
    "import numpy as np\n",
    "import matplotlib.pyplot as plt\n",
    "from PIL import Image\n",
    "\n",
    "import torch\n",
    "from torch.utils.data import DataLoader\n",
    "import torchvision\n",
    "from torchvision import transforms\n",
    "\n",
    "## References\n",
    "## https://github.com/MedMNIST/MedMNIST/blob/main/medmnist/dataset.py\n",
    "## https://medium.com/analytics-vidhya/creating-a-custom-dataset-and-dataloader-in-pytorch-76f210a1df5d\n"
   ]
  },
  {
   "cell_type": "code",
   "execution_count": 2,
   "id": "f83bc447",
   "metadata": {
    "ExecuteTime": {
     "end_time": "2023-01-02T16:36:20.734979Z",
     "start_time": "2023-01-02T16:36:20.732416Z"
    }
   },
   "outputs": [
    {
     "name": "stdout",
     "output_type": "stream",
     "text": [
      "/home/mxochicale/repositories/mxochicale/diffusion-models-tutorials/datasets/MedMNISTv2/breastmnist.npz\n"
     ]
    }
   ],
   "source": [
    "mycwd = os.getcwd()\n",
    "# print(mycwd)\n",
    "os.chdir(\"../..\")\n",
    "path_datasets_filename = os.getcwd()+'/datasets/MedMNISTv2/breastmnist.npz'\n",
    "print(path_datasets_filename)"
   ]
  },
  {
   "cell_type": "code",
   "execution_count": 3,
   "id": "1600a4a7",
   "metadata": {
    "ExecuteTime": {
     "end_time": "2023-01-02T16:36:20.744894Z",
     "start_time": "2023-01-02T16:36:20.735759Z"
    }
   },
   "outputs": [
    {
     "name": "stdout",
     "output_type": "stream",
     "text": [
      "<class 'numpy.lib.npyio.NpzFile'>\n",
      "KeysView(<numpy.lib.npyio.NpzFile object at 0x7f09257fbbb0>)\n",
      "(546, 28, 28)\n",
      "<class 'numpy.ndarray'>\n",
      "(546, 1)\n",
      "uint8\n"
     ]
    }
   ],
   "source": [
    "npz_file = np.load(path_datasets_filename)\n",
    "\n",
    "print(type(npz_file)) #lib.npyio.NpzFile\n",
    "print(npz_file.keys())#KeysView(<numpy.lib.npyio.NpzFile object at 0x7f5ac597d9f0>)\n",
    "\n",
    "train_imgs = npz_file['train_images']\n",
    "train_labels = npz_file['train_labels']\n",
    "#             self.imgs = npz_file['val_images']\n",
    "#             self.labels = npz_file['val_labels']\n",
    "#             self.imgs = npz_file['test_images']\n",
    "#             self.labels = npz_file['test_labels']\n",
    "\n",
    "len_train_labels = len(train_labels)\n",
    "\n",
    "print(train_imgs.shape)#(546, 28, 28)\n",
    "print(type(train_imgs))#<class 'numpy.ndarray'>\n",
    "\n",
    "print(train_labels.shape)#(546, 1)\n",
    "print(train_imgs.dtype) #uint8\n",
    "\n",
    "# train_imgs_float32 = train_imgs.astype(np.float32)\n",
    "# print(train_imgs_float32.dtype) #float32\n",
    "\n"
   ]
  },
  {
   "cell_type": "code",
   "execution_count": 4,
   "id": "ca535fd4",
   "metadata": {
    "ExecuteTime": {
     "end_time": "2023-01-02T16:36:20.763823Z",
     "start_time": "2023-01-02T16:36:20.746138Z"
    }
   },
   "outputs": [
    {
     "name": "stdout",
     "output_type": "stream",
     "text": [
      "torch.Size([546, 28, 28])\n",
      "<class 'torch.Tensor'>\n"
     ]
    }
   ],
   "source": [
    "\n",
    "imagesTensor = torch.tensor(train_imgs)\n",
    "\n",
    "\n",
    "###################\n",
    "#####Transforms\n",
    "toTensor = torchvision.transforms.ToTensor()\n",
    "toPILImage = torchvision.transforms.ToPILImage()\n",
    "# toResize = torchvision.transforms.Resize(image_size)\n",
    "# toCenterCrop = torchvision.transforms.CenterCrop(image_size)\n",
    "#toGraysacle = torchvision.transforms.Grayscale()\n",
    "\n",
    "\n",
    "def scaleImage(x):\n",
    "    #print(type(x)) #<class 'torch.Tensor'>\n",
    "    #print(x.shape) #torch.Size([28, 28])\n",
    "\n",
    "    if(x.min() < x.max()):  # Assuming the image isn't empty, rescale so its values run from 0 to 1\n",
    "        x = (x - x.min())/(x.max() - x.min()) \n",
    "    z = x - x.mean()        # Subtract the mean value of the image\n",
    "#     y = toTensor(y)\n",
    "#     #y = toResize(y)\n",
    "#     #y = toCenterCrop(y)\n",
    "    \n",
    "    return z\n",
    "\n",
    "#imageTensor = torch.stack([scaleImage(Image.open(x)) for x in imageFilesList]) \n",
    "\n",
    "#TRIED\n",
    "# https://pillow.readthedocs.io/en/stable/reference/ImageStat.html#PIL.ImageStat.Stat.mean\n",
    "\n",
    "imageTensorX = torch.stack( [ scaleImage(x) for x in imagesTensor]  )\n",
    "print(imageTensorX.shape)\n",
    "print(type(imageTensorX))\n",
    "#print(imageTensorX[0]) #...tensor([[ 0.2069,  0.2069,  0.2014,  0.2069,  0.2235,  0.2622,  0.3009,  0.3174,\n",
    "\n"
   ]
  },
  {
   "cell_type": "code",
   "execution_count": 5,
   "id": "1b90fe51",
   "metadata": {
    "ExecuteTime": {
     "end_time": "2023-01-02T16:36:20.772456Z",
     "start_time": "2023-01-02T16:36:20.765282Z"
    }
   },
   "outputs": [
    {
     "name": "stdout",
     "output_type": "stream",
     "text": [
      " batch_class0.shape torch.Size([147, 28, 28])\n",
      " batch_class1.shape torch.Size([399, 28, 28])\n"
     ]
    }
   ],
   "source": [
    "\n",
    "\n",
    "batch_class0 = []\n",
    "batch_class1 = []\n",
    "\n",
    "for idx in  range(0, len_train_labels):\n",
    "    if train_labels[idx]==0:\n",
    "        batch_class0.append(imageTensorX[idx])\n",
    "    elif train_labels[idx]==1:\n",
    "        batch_class1.append(imageTensorX[idx])\n",
    "    else:\n",
    "        print('no class')\n",
    "\n",
    "batch_class0 = torch.stack(batch_class0, 0)\n",
    "batch_class1 = torch.stack(batch_class1, 0)\n",
    "print(f' batch_class0.shape {batch_class0.shape}')\n",
    "print(f' batch_class1.shape {batch_class1.shape}')\n",
    "\n",
    "\n"
   ]
  },
  {
   "cell_type": "code",
   "execution_count": 6,
   "id": "63c3b5dd",
   "metadata": {
    "ExecuteTime": {
     "end_time": "2023-01-02T16:36:20.777161Z",
     "start_time": "2023-01-02T16:36:20.773637Z"
    }
   },
   "outputs": [
    {
     "name": "stdout",
     "output_type": "stream",
     "text": [
      "torch.Size([1, 399, 28, 28])\n",
      "torch.Size([399, 1, 28, 28])\n",
      "torch.float32\n",
      " number_of_images: 399 \n"
     ]
    }
   ],
   "source": [
    "#imagesTensor = batch_class0\n",
    "imagesTensor = batch_class1\n",
    "imagesTensor = torch.unsqueeze(imagesTensor, 0)\n",
    "print(imagesTensor.shape)\n",
    "imagesTensor = torch.permute(imagesTensor, (1, 0, 2, 3))\n",
    "print(imagesTensor.shape)\n",
    "\n",
    "# number_of_output_channels = 1\n",
    "# transform = transforms.Grayscale(num_output_channels=number_of_output_channels)\n",
    "# imagesTensorGray = transform(imagesTensor)\n",
    "# print(imagesTensorGray.shape)#torch.Size([1080, 1, 28, 28])\n",
    "\n",
    "print(imagesTensor.dtype)\n",
    "number_of_images = imagesTensor.shape[0]\n",
    "print(f' number_of_images: {number_of_images} ')\n",
    "\n",
    "#print(imagesTensor[0]) #...tensor([[[ 0.2069,  0.2069,  0.2014,  0.2069,  0.2235,  0.2622,  0.3009,\n"
   ]
  },
  {
   "cell_type": "code",
   "execution_count": 7,
   "id": "04687871",
   "metadata": {
    "ExecuteTime": {
     "end_time": "2023-01-02T16:36:20.780685Z",
     "start_time": "2023-01-02T16:36:20.778681Z"
    }
   },
   "outputs": [
    {
     "name": "stdout",
     "output_type": "stream",
     "text": [
      "BATCHES_SIZE 199.5 or len(dataloader) 200\n"
     ]
    }
   ],
   "source": [
    "BATCH_SIZE=2\n",
    "BATCHES_SIZE=number_of_images/BATCH_SIZE\n",
    "dataloader = DataLoader(imagesTensor, batch_size=BATCH_SIZE, shuffle=True)\n",
    "print(f'BATCHES_SIZE {BATCHES_SIZE} or len(dataloader) {len(dataloader)}')\n"
   ]
  },
  {
   "cell_type": "code",
   "execution_count": 8,
   "id": "b6ff102f",
   "metadata": {
    "ExecuteTime": {
     "end_time": "2023-01-02T16:36:21.019007Z",
     "start_time": "2023-01-02T16:36:20.781596Z"
    }
   },
   "outputs": [
    {
     "name": "stdout",
     "output_type": "stream",
     "text": [
      "batch_idx: 0;               sampled images in the batch: 0 of 399\n",
      "    img.shape: torch.Size([2, 1, 28, 28])\n",
      "    img.dtype: torch.float32\n",
      "    grid_img.shape: torch.Size([3, 32, 62])\n"
     ]
    },
    {
     "data": {
      "image/png": "[encoded data removed]",
      "text/plain": [
       "<Figure size 640x480 with 1 Axes>"
      ]
     },
     "metadata": {},
     "output_type": "display_data"
    },
    {
     "name": "stdout",
     "output_type": "stream",
     "text": [
      "batch_idx: 50;               sampled images in the batch: 100 of 399\n",
      "    img.shape: torch.Size([2, 1, 28, 28])\n",
      "    img.dtype: torch.float32\n",
      "    grid_img.shape: torch.Size([3, 32, 62])\n"
     ]
    },
    {
     "data": {
      "image/png": "[encoded data removed]",
      "text/plain": [
       "<Figure size 640x480 with 1 Axes>"
      ]
     },
     "metadata": {},
     "output_type": "display_data"
    },
    {
     "name": "stdout",
     "output_type": "stream",
     "text": [
      "batch_idx: 100;               sampled images in the batch: 200 of 399\n",
      "    img.shape: torch.Size([2, 1, 28, 28])\n",
      "    img.dtype: torch.float32\n",
      "    grid_img.shape: torch.Size([3, 32, 62])\n"
     ]
    },
    {
     "data": {
      "image/png": "[encoded data removed]",
      "text/plain": [
       "<Figure size 640x480 with 1 Axes>"
      ]
     },
     "metadata": {},
     "output_type": "display_data"
    },
    {
     "name": "stdout",
     "output_type": "stream",
     "text": [
      "batch_idx: 150;               sampled images in the batch: 300 of 399\n",
      "    img.shape: torch.Size([2, 1, 28, 28])\n",
      "    img.dtype: torch.float32\n",
      "    grid_img.shape: torch.Size([3, 32, 62])\n"
     ]
    },
    {
     "data": {
      "image/png": "[encoded data removed]",
      "text/plain": [
       "<Figure size 640x480 with 1 Axes>"
      ]
     },
     "metadata": {},
     "output_type": "display_data"
    }
   ],
   "source": [
    "## Displaying dataloader content\n",
    "len_dataloader = len(dataloader)\n",
    "\n",
    "for batch_idx, batch in enumerate(dataloader):  #iterate through each batch    \n",
    "    if batch_idx % 50 == 0:\n",
    "        print(f'batch_idx: {batch_idx}; \\\n",
    "              sampled images in the batch: { batch_idx*BATCH_SIZE } of {number_of_images}')\n",
    "        #print(batch.shape)\n",
    "        img = batch\n",
    "        print(f'    img.shape: {img.shape}') #torch.Size([BATCH_SIZE, 1, 64, 64])\n",
    "        print(f'    img.dtype: {img.dtype}') #torch.Size([BATCH_SIZE, 1, 64, 64])\n",
    "\n",
    "        grid_img = torchvision.utils.make_grid(img, normalize=True) #also (img, nrow=10)\n",
    "        print(f'    grid_img.shape: {grid_img.shape}')#torch.Size([3, 482, 242])\n",
    "        plt.imshow(grid_img.permute(1, 2, 0)) \n",
    "        #plt.imshow(grid_img.permute(1, 2, 0).cpu().numpy()  ) \n",
    "        #plt.imshow(grid_img.permute(1, 2, 0).cpu().numpy().astype(\"float32\")) \n",
    "\n",
    "        plt.show()\n"
   ]
  },
  {
   "cell_type": "code",
   "execution_count": 9,
   "id": "228d1e7b",
   "metadata": {
    "ExecuteTime": {
     "end_time": "2023-01-02T16:36:21.021804Z",
     "start_time": "2023-01-02T16:36:21.019845Z"
    }
   },
   "outputs": [],
   "source": [
    "# ls -la"
   ]
  },
  {
   "cell_type": "code",
   "execution_count": 10,
   "id": "e916cc49",
   "metadata": {
    "ExecuteTime": {
     "end_time": "2023-01-02T16:36:21.025194Z",
     "start_time": "2023-01-02T16:36:21.023164Z"
    }
   },
   "outputs": [],
   "source": [
    "os.chdir(mycwd)    # go back where you came from"
   ]
  },
  {
   "cell_type": "code",
   "execution_count": null,
   "id": "4b04551b",
   "metadata": {},
   "outputs": [],
   "source": []
  }
 ],
 "metadata": {
  "kernelspec": {
   "display_name": "Python 3 (ipykernel)",
   "language": "python",
   "name": "python3"
  },
  "language_info": {
   "codemirror_mode": {
    "name": "ipython",
    "version": 3
   },
   "file_extension": ".py",
   "mimetype": "text/x-python",
   "name": "python",
   "nbconvert_exporter": "python",
   "pygments_lexer": "ipython3",
   "version": "3.10.8"
  }
 },
 "nbformat": 4,
 "nbformat_minor": 5
}
