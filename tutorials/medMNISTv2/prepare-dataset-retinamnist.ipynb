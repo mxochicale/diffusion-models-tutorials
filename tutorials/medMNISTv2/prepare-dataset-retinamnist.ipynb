{
 "cells": [
  {
   "cell_type": "code",
   "execution_count": 1,
   "id": "4beff908",
   "metadata": {
    "ExecuteTime": {
     "end_time": "2023-01-02T16:39:04.093513Z",
     "start_time": "2023-01-02T16:39:03.426342Z"
    }
   },
   "outputs": [],
   "source": [
    "import os\n",
    "import numpy as np\n",
    "import torch\n",
    "from torch.utils.data import DataLoader\n",
    "\n",
    "import torchvision\n",
    "from torchvision import transforms\n",
    "\n",
    "import matplotlib.pyplot as plt\n",
    "\n",
    "## References\n",
    "## https://github.com/MedMNIST/MedMNIST/blob/main/medmnist/dataset.py\n",
    "\n"
   ]
  },
  {
   "cell_type": "code",
   "execution_count": 2,
   "id": "f83bc447",
   "metadata": {
    "ExecuteTime": {
     "end_time": "2023-01-02T16:39:04.862221Z",
     "start_time": "2023-01-02T16:39:04.857251Z"
    }
   },
   "outputs": [
    {
     "name": "stdout",
     "output_type": "stream",
     "text": [
      "/home/mxochicale/repositories/mxochicale/diffusion-models-tutorials/datasets/MedMNISTv2/retinamnist.npz\n"
     ]
    }
   ],
   "source": [
    "mycwd = os.getcwd()\n",
    "# print(mycwd)\n",
    "os.chdir(\"../..\")\n",
    "path_datasets_filename = os.getcwd()+'/datasets/MedMNISTv2/retinamnist.npz' \n",
    "#Task: Ordinal Regression (5)\n",
    "#Number of Samples: 1,600 (1,080 / 120 / 400)\n",
    "print(path_datasets_filename)"
   ]
  },
  {
   "cell_type": "code",
   "execution_count": 3,
   "id": "1600a4a7",
   "metadata": {
    "ExecuteTime": {
     "end_time": "2023-01-02T16:39:05.505905Z",
     "start_time": "2023-01-02T16:39:05.480454Z"
    }
   },
   "outputs": [
    {
     "name": "stdout",
     "output_type": "stream",
     "text": [
      "<class 'numpy.lib.npyio.NpzFile'>\n",
      "KeysView(<numpy.lib.npyio.NpzFile object at 0x7fe8c603f070>)\n",
      "(1080, 28, 28, 3)\n",
      "(1080, 1)\n",
      "uint8\n"
     ]
    }
   ],
   "source": [
    "npz_file = np.load(path_datasets_filename)\n",
    "\n",
    "print(type(npz_file)) #lib.npyio.NpzFile\n",
    "print(npz_file.keys())#KeysView(<numpy.lib.npyio.NpzFile object at 0x7f5ac597d9f0>)\n",
    "\n",
    "train_imgs = npz_file['train_images']\n",
    "train_labels = npz_file['train_labels']\n",
    "#             self.imgs = npz_file['val_images']\n",
    "#             self.labels = npz_file['val_labels']\n",
    "#             self.imgs = npz_file['test_images']\n",
    "#             self.labels = npz_file['test_labels']\n",
    "\n",
    "print(train_imgs.shape)#(1080, 28, 28, 3)\n",
    "print(train_labels.shape)#(1080, 1)\n",
    "print(train_imgs.dtype) #uint8\n",
    "length_samples = train_imgs.shape[0]\n",
    "\n"
   ]
  },
  {
   "cell_type": "code",
   "execution_count": 4,
   "id": "63c3b5dd",
   "metadata": {
    "ExecuteTime": {
     "end_time": "2023-01-02T16:39:06.208266Z",
     "start_time": "2023-01-02T16:39:06.143421Z"
    }
   },
   "outputs": [
    {
     "name": "stdout",
     "output_type": "stream",
     "text": [
      "<class 'torch.Tensor'>\n",
      "torch.Size([1080, 28, 28, 3])\n",
      "torch.Size([1080, 3, 28, 28])\n",
      "torch.Size([1080, 3, 28, 28])\n",
      "<class 'torch.Tensor'>\n",
      "torch.float32\n"
     ]
    }
   ],
   "source": [
    "\n",
    "imagesTensor = torch.tensor(train_imgs)\n",
    "\n",
    "print(type(imagesTensor))#<class 'torch.Tensor'>\n",
    "print(imagesTensor.shape)#torch.Size([1080, 28, 28, 3])\n",
    "imagesTensor = torch.permute(imagesTensor, (0, 3, 1, 2))\n",
    "print(imagesTensor.shape)#torch.Size([1080, 28, 28, 3])\n",
    "\n",
    "#####Transforms\n",
    "#toTensor = torchvision.transforms.ToTensor()\n",
    "#toPILImage = torchvision.transforms.ToPILImage()\n",
    "# toResize = torchvision.transforms.Resize(image_size)\n",
    "# toCenterCrop = torchvision.transforms.CenterCrop(image_size)\n",
    "#toGraysacle = torchvision.transforms.Grayscale()\n",
    "\n",
    "\n",
    "def scaleImage(x):\n",
    "    #print(type(x)) #<class 'torch.Tensor'>\n",
    "    #print(x.shape) #torch.Size([28, 28])\n",
    "\n",
    "    if(x.min() < x.max()):  # Assuming the image isn't empty, rescale so its values run from 0 to 1\n",
    "        x = (x - x.min())/(x.max() - x.min()) \n",
    "    z = x - x.mean()        # Subtract the mean value of the image\n",
    "#     y = toTensor(y)\n",
    "#     #y = toResize(y)\n",
    "#     #y = toCenterCrop(y)\n",
    "    \n",
    "    return z\n",
    "\n",
    "imageTensorX = torch.stack( [ scaleImage(x) for x in imagesTensor]  )\n",
    "print(imageTensorX.shape)\n",
    "print(type(imageTensorX))\n",
    "print(imageTensorX.dtype)\n",
    "\n",
    "#print(imageTensorX[0]) #tensor([[[-0.2927, -0.2808, -0.2808,  ..., -0.3046, -0.3046, -0.3046],"
   ]
  },
  {
   "cell_type": "code",
   "execution_count": 5,
   "id": "81ec1fae",
   "metadata": {
    "ExecuteTime": {
     "end_time": "2023-01-02T16:39:07.129740Z",
     "start_time": "2023-01-02T16:39:07.112835Z"
    }
   },
   "outputs": [
    {
     "name": "stdout",
     "output_type": "stream",
     "text": [
      " batch_class00.shape torch.Size([486, 3, 28, 28])\n",
      " batch_class01.shape torch.Size([128, 3, 28, 28])\n",
      " batch_class02.shape torch.Size([206, 3, 28, 28])\n",
      " batch_class03.shape torch.Size([194, 3, 28, 28])\n",
      " batch_class04.shape torch.Size([66, 3, 28, 28])\n"
     ]
    },
    {
     "data": {
      "text/plain": [
       "1080"
      ]
     },
     "execution_count": 5,
     "metadata": {},
     "output_type": "execute_result"
    }
   ],
   "source": [
    "\n",
    "batch_class00 = []\n",
    "batch_class01 = []\n",
    "batch_class02 = []\n",
    "batch_class03 = []\n",
    "batch_class04 = []\n",
    "\n",
    "for idx in  range(0, length_samples):\n",
    "    if train_labels[idx]==0:\n",
    "        batch_class00.append(imageTensorX[idx])\n",
    "    elif train_labels[idx]==1:\n",
    "        batch_class01.append(imageTensorX[idx])\n",
    "    elif train_labels[idx]==2:\n",
    "        batch_class02.append(imageTensorX[idx])        \n",
    "    elif train_labels[idx]==3:\n",
    "        batch_class03.append(imageTensorX[idx])        \n",
    "    elif train_labels[idx]==4:\n",
    "        batch_class04.append(imageTensorX[idx])        \n",
    "    else:\n",
    "        print('no class')\n",
    "\n",
    "batch_class00 = torch.stack(batch_class00, 0)\n",
    "batch_class01 = torch.stack(batch_class01, 0)\n",
    "batch_class02 = torch.stack(batch_class02, 0)\n",
    "batch_class03 = torch.stack(batch_class03, 0)\n",
    "batch_class04 = torch.stack(batch_class04, 0)\n",
    "\n",
    "print(f' batch_class00.shape {batch_class00.shape}')\n",
    "print(f' batch_class01.shape {batch_class01.shape}')\n",
    "print(f' batch_class02.shape {batch_class02.shape}')\n",
    "print(f' batch_class03.shape {batch_class03.shape}')\n",
    "print(f' batch_class04.shape {batch_class04.shape}')\n",
    "486+128+206+194+66"
   ]
  },
  {
   "cell_type": "code",
   "execution_count": 10,
   "id": "04687871",
   "metadata": {
    "ExecuteTime": {
     "end_time": "2023-01-02T16:39:40.713346Z",
     "start_time": "2023-01-02T16:39:40.708806Z"
    }
   },
   "outputs": [
    {
     "name": "stdout",
     "output_type": "stream",
     "text": [
      "BATCHES_SIZE 360.0 or len(dataloader) 69\n"
     ]
    }
   ],
   "source": [
    "BATCH_SIZE=3\n",
    "BATCHES_SIZE=length_samples/BATCH_SIZE\n",
    "dataloader = DataLoader(batch_class02, batch_size=BATCH_SIZE, shuffle=True)\n",
    "print(f'BATCHES_SIZE {BATCHES_SIZE} or len(dataloader) {len(dataloader)}')\n"
   ]
  },
  {
   "cell_type": "code",
   "execution_count": 11,
   "id": "b6ff102f",
   "metadata": {
    "ExecuteTime": {
     "end_time": "2023-01-02T16:39:41.443699Z",
     "start_time": "2023-01-02T16:39:41.336562Z"
    }
   },
   "outputs": [
    {
     "name": "stdout",
     "output_type": "stream",
     "text": [
      "batch_idx: 0; sampled images in the batch: 0 of 1080\n",
      "    img.shape: torch.Size([3, 3, 28, 28])\n",
      "    grid_img.shape: torch.Size([3, 32, 92])\n"
     ]
    },
    {
     "data": {
      "image/png": "[encoded data removed]",
      "text/plain": [
       "<Figure size 640x480 with 1 Axes>"
      ]
     },
     "metadata": {},
     "output_type": "display_data"
    },
    {
     "name": "stdout",
     "output_type": "stream",
     "text": [
      "batch_idx: 50; sampled images in the batch: 150 of 1080\n",
      "    img.shape: torch.Size([3, 3, 28, 28])\n",
      "    grid_img.shape: torch.Size([3, 32, 92])\n"
     ]
    },
    {
     "data": {
      "image/png": "[encoded data removed]",
      "text/plain": [
       "<Figure size 640x480 with 1 Axes>"
      ]
     },
     "metadata": {},
     "output_type": "display_data"
    }
   ],
   "source": [
    "## Displaying dataloader content\n",
    "len_dataloader = len(dataloader)\n",
    "\n",
    "for batch_idx, batch in enumerate(dataloader):  #iterate through each batch    \n",
    "    if batch_idx % 50 == 0:\n",
    "        print(f'batch_idx: {batch_idx}; sampled images in the batch: { batch_idx*BATCH_SIZE } of {length_samples}')\n",
    "        #print(batch.shape)\n",
    "        img = batch\n",
    "        print(f'    img.shape: {img.shape}') #torch.Size([BATCH_SIZE, 1, 64, 64])\n",
    "        grid_img = torchvision.utils.make_grid(img, normalize=True) #also (img, nrow=10)\n",
    "        print(f'    grid_img.shape: {grid_img.shape}')#torch.Size([3, 482, 242])\n",
    "        plt.imshow(grid_img.permute(1, 2, 0)) \n",
    "        #plt.imshow(grid_img.permute(1, 2, 0).cpu().numpy().astype(\"uint8\")) \n",
    "        #plt.imshow(grid_img.permute(1, 2, 0).cpu().numpy().astype(\"float32\")) \n",
    "\n",
    "\n",
    "        plt.show()\n",
    "    \n",
    "    "
   ]
  },
  {
   "cell_type": "code",
   "execution_count": 8,
   "id": "228d1e7b",
   "metadata": {
    "ExecuteTime": {
     "end_time": "2022-12-28T18:12:21.256817Z",
     "start_time": "2022-12-28T18:12:21.254586Z"
    }
   },
   "outputs": [],
   "source": [
    "# ls -la"
   ]
  },
  {
   "cell_type": "code",
   "execution_count": 9,
   "id": "e916cc49",
   "metadata": {
    "ExecuteTime": {
     "end_time": "2022-12-28T18:12:21.964205Z",
     "start_time": "2022-12-28T18:12:21.961723Z"
    }
   },
   "outputs": [],
   "source": [
    "os.chdir(mycwd)    # go back where you came from"
   ]
  },
  {
   "cell_type": "code",
   "execution_count": null,
   "id": "4b04551b",
   "metadata": {},
   "outputs": [],
   "source": []
  }
 ],
 "metadata": {
  "kernelspec": {
   "display_name": "Python 3 (ipykernel)",
   "language": "python",
   "name": "python3"
  },
  "language_info": {
   "codemirror_mode": {
    "name": "ipython",
    "version": 3
   },
   "file_extension": ".py",
   "mimetype": "text/x-python",
   "name": "python",
   "nbconvert_exporter": "python",
   "pygments_lexer": "ipython3",
   "version": "3.10.8"
  }
 },
 "nbformat": 4,
 "nbformat_minor": 5
}
