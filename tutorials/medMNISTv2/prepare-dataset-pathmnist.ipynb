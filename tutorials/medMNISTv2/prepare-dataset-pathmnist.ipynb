{
 "cells": [
  {
   "cell_type": "code",
   "execution_count": 1,
   "id": "4beff908",
   "metadata": {
    "ExecuteTime": {
     "end_time": "2023-01-02T16:37:19.962139Z",
     "start_time": "2023-01-02T16:37:19.297071Z"
    }
   },
   "outputs": [],
   "source": [
    "import os\n",
    "import numpy as np\n",
    "import torch\n",
    "from torch.utils.data import DataLoader\n",
    "\n",
    "import torchvision\n",
    "from torchvision import transforms\n",
    "\n",
    "import matplotlib.pyplot as plt\n",
    "\n",
    "## References\n",
    "## https://github.com/MedMNIST/MedMNIST/blob/main/medmnist/dataset.py\n",
    "## Good examples for augmentations: https://www.neurotec.uni-bremen.de/drupal/node/30\n",
    "\n"
   ]
  },
  {
   "cell_type": "code",
   "execution_count": 2,
   "id": "f83bc447",
   "metadata": {
    "ExecuteTime": {
     "end_time": "2023-01-02T16:37:19.966288Z",
     "start_time": "2023-01-02T16:37:19.963436Z"
    }
   },
   "outputs": [
    {
     "name": "stdout",
     "output_type": "stream",
     "text": [
      "/home/mxochicale/repositories/mxochicale/diffusion-models-tutorials/datasets/MedMNISTv2/pathmnist.npz\n"
     ]
    }
   ],
   "source": [
    "mycwd = os.getcwd()\n",
    "# print(mycwd)\n",
    "os.chdir(\"../..\")\n",
    "path_datasets_filename = os.getcwd()+'/datasets/MedMNISTv2/pathmnist.npz'\n",
    "#Task: Multi-Class (9) Number of Samples: 107,180 (89,996 / 10,004 / 7,180)\n",
    "print(path_datasets_filename)"
   ]
  },
  {
   "cell_type": "code",
   "execution_count": 3,
   "id": "1600a4a7",
   "metadata": {
    "ExecuteTime": {
     "end_time": "2023-01-02T16:37:22.281880Z",
     "start_time": "2023-01-02T16:37:20.989547Z"
    }
   },
   "outputs": [
    {
     "name": "stdout",
     "output_type": "stream",
     "text": [
      "<class 'numpy.lib.npyio.NpzFile'>\n",
      "KeysView(<numpy.lib.npyio.NpzFile object at 0x7f4bdf3f6cb0>)\n",
      "(89996, 28, 28, 3)\n",
      "(89996, 1)\n",
      "uint8\n"
     ]
    }
   ],
   "source": [
    "npz_file = np.load(path_datasets_filename)\n",
    "\n",
    "print(type(npz_file)) #lib.npyio.NpzFile\n",
    "print(npz_file.keys())#KeysView(<numpy.lib.npyio.NpzFile object at 0x7f5ac597d9f0>)\n",
    "\n",
    "train_imgs = npz_file['train_images']\n",
    "train_labels = npz_file['train_labels']\n",
    "#             self.imgs = npz_file['val_images']\n",
    "#             self.labels = npz_file['val_labels']\n",
    "#             self.imgs = npz_file['test_images']\n",
    "#             self.labels = npz_file['test_labels']\n",
    "\n",
    "print(train_imgs.shape)#(546, 28, 28)\n",
    "print(train_labels.shape)#(546, 1)\n",
    "print(train_imgs.dtype) #uint8\n",
    "length_samples = train_imgs.shape[0]\n",
    "\n",
    "\n"
   ]
  },
  {
   "cell_type": "code",
   "execution_count": 4,
   "id": "63c3b5dd",
   "metadata": {
    "ExecuteTime": {
     "end_time": "2023-01-02T16:37:25.793845Z",
     "start_time": "2023-01-02T16:37:22.283323Z"
    }
   },
   "outputs": [
    {
     "name": "stdout",
     "output_type": "stream",
     "text": [
      "torch.uint8\n",
      "<class 'torch.Tensor'>\n",
      "torch.Size([89996, 28, 28, 3])\n",
      "torch.Size([89996, 3, 28, 28])\n",
      "torch.Size([89996, 3, 28, 28])\n",
      "<class 'torch.Tensor'>\n",
      "torch.float32\n"
     ]
    }
   ],
   "source": [
    "\n",
    "imagesTensor = torch.tensor(train_imgs)\n",
    "print(imagesTensor.dtype) #uint8\n",
    "\n",
    "\n",
    "IMAGE_SIZE = 28\n",
    "CHANNELS = 3\n",
    "\n",
    "\n",
    "print(type(imagesTensor))#<class 'torch.Tensor'>\n",
    "print(imagesTensor.shape)#torch.Size([1080, 28, 28, 3])\n",
    "imagesTensor = torch.permute(imagesTensor, (0, 3, 1, 2))\n",
    "print(imagesTensor.shape)#torch.Size([1080, 28, 28, 3])\n",
    "\n",
    "#####Transforms\n",
    "#toTensor = torchvision.transforms.ToTensor()\n",
    "#toPILImage = torchvision.transforms.ToPILImage()\n",
    "# toResize = torchvision.transforms.Resize(image_size)\n",
    "# toCenterCrop = torchvision.transforms.CenterCrop(image_size)\n",
    "# toGraysacle = torchvision.transforms.Grayscale(num_output_channels=CHANNELS)\n",
    "\n",
    "\n",
    "\n",
    "def scaleImage(x):\n",
    "    #print(type(x)) #<class 'torch.Tensor'>\n",
    "    #print(x.shape) #torch.Size([28, 28])\n",
    "\n",
    "    if(x.min() < x.max()):  # Assuming the image isn't empty, rescale so its values run from 0 to 1\n",
    "        x = (x - x.min())/(x.max() - x.min()) \n",
    "    z = x - x.mean()        # Subtract the mean value of the image\n",
    "#     y = toTensor(y)\n",
    "#     #y = toResize(y)\n",
    "#     #y = toCenterCrop(y)\n",
    "    \n",
    "    return z\n",
    "\n",
    "imageTensorX = torch.stack( [ scaleImage(x) for x in imagesTensor]  )\n",
    "print(imageTensorX.shape)\n",
    "print(type(imageTensorX))\n",
    "print(imageTensorX.dtype)\n",
    "# print(imageTensorX[0])#tensor([[[ 0.0597,  0.0440,  0.0597,  ...,  0.0597,  0.0440,  0.0753],\n",
    "\n",
    "\n",
    "####imageTensorX = imagesTensor\n",
    "\n"
   ]
  },
  {
   "cell_type": "code",
   "execution_count": 5,
   "id": "c63dc170",
   "metadata": {
    "ExecuteTime": {
     "end_time": "2023-01-02T16:37:26.699434Z",
     "start_time": "2023-01-02T16:37:25.795369Z"
    }
   },
   "outputs": [
    {
     "name": "stdout",
     "output_type": "stream",
     "text": [
      " batch_class00.shape torch.Size([9366, 3, 28, 28])\n",
      " batch_class01.shape torch.Size([9509, 3, 28, 28])\n",
      " batch_class02.shape torch.Size([10360, 3, 28, 28])\n",
      " batch_class03.shape torch.Size([10401, 3, 28, 28])\n",
      " batch_class04.shape torch.Size([8006, 3, 28, 28])\n",
      " batch_class05.shape torch.Size([12182, 3, 28, 28])\n",
      " batch_class06.shape torch.Size([7886, 3, 28, 28])\n",
      " batch_class07.shape torch.Size([9401, 3, 28, 28])\n",
      " batch_class08.shape torch.Size([12885, 3, 28, 28])\n"
     ]
    },
    {
     "data": {
      "text/plain": [
       "89996"
      ]
     },
     "execution_count": 5,
     "metadata": {},
     "output_type": "execute_result"
    }
   ],
   "source": [
    "## Filter out batches of classes \n",
    "## ADDED: Wed 28 Dec 18:37:09 GMT 2022; DONE: Thu 29 Dec 12:43:36 GMT 2022\n",
    "\n",
    "#FROM: Fig 1. Example images for each of the nine tissue classes represented in the NCT-CRC-HE-100K data set.\n",
    "\n",
    "#ADI, adipose tissue; \n",
    "#BACK, background; \n",
    "#DEB, debris; \n",
    "\n",
    "#LYM, lymphocytes; \n",
    "#MUC, mucus; \n",
    "#MUS, smooth muscle; \n",
    "\n",
    "#NORM, normal colon mucosa; \n",
    "#STR, cancer-associated stroma; \n",
    "#TUM, colorectal adenocarcinoma epithelium.\n",
    "\n",
    "##=====================================\n",
    "#CRC, colorectal cancer; \n",
    "#HE, hematoxylin–eosin; \n",
    "#NCT, National Center for Tumor Diseases; \n",
    "\n",
    "batch_class00 = []\n",
    "batch_class01 = []\n",
    "batch_class02 = []\n",
    "batch_class03 = []\n",
    "batch_class04 = []\n",
    "batch_class05 = []\n",
    "batch_class06 = []\n",
    "batch_class07 = []\n",
    "batch_class08 = []\n",
    "\n",
    "for idx in  range(0, length_samples):\n",
    "    if train_labels[idx]==0:\n",
    "        batch_class00.append(imageTensorX[idx])\n",
    "    elif train_labels[idx]==1:\n",
    "        batch_class01.append(imageTensorX[idx])\n",
    "    elif train_labels[idx]==2:\n",
    "        batch_class02.append(imageTensorX[idx])\n",
    "    elif train_labels[idx]==3:\n",
    "        batch_class03.append(imageTensorX[idx])\n",
    "    elif train_labels[idx]==4:\n",
    "        batch_class04.append(imageTensorX[idx])\n",
    "    elif train_labels[idx]==5:\n",
    "        batch_class05.append(imageTensorX[idx])\n",
    "    elif train_labels[idx]==6:\n",
    "        batch_class06.append(imageTensorX[idx])        \n",
    "    elif train_labels[idx]==7:\n",
    "        batch_class07.append(imageTensorX[idx])                \n",
    "    elif train_labels[idx]==8:\n",
    "        batch_class08.append(imageTensorX[idx])                        \n",
    "    else:\n",
    "        print('no class')\n",
    "\n",
    "batch_class00 = torch.stack(batch_class00, 0)\n",
    "batch_class01 = torch.stack(batch_class01, 0)\n",
    "batch_class02 = torch.stack(batch_class02, 0)\n",
    "batch_class03 = torch.stack(batch_class03, 0)\n",
    "batch_class04 = torch.stack(batch_class04, 0)\n",
    "batch_class05 = torch.stack(batch_class05, 0)\n",
    "batch_class06 = torch.stack(batch_class06, 0)\n",
    "batch_class07 = torch.stack(batch_class07, 0)\n",
    "batch_class08 = torch.stack(batch_class08, 0)\n",
    "\n",
    "print(f' batch_class00.shape {batch_class00.shape}')\n",
    "print(f' batch_class01.shape {batch_class01.shape}')\n",
    "print(f' batch_class02.shape {batch_class02.shape}')\n",
    "print(f' batch_class03.shape {batch_class03.shape}')\n",
    "print(f' batch_class04.shape {batch_class04.shape}')\n",
    "print(f' batch_class05.shape {batch_class05.shape}')\n",
    "print(f' batch_class06.shape {batch_class06.shape}')\n",
    "print(f' batch_class07.shape {batch_class07.shape}')\n",
    "print(f' batch_class08.shape {batch_class08.shape}')\n",
    "9366+9509+10360+10401+8006+12182+7886+9401+12885"
   ]
  },
  {
   "cell_type": "code",
   "execution_count": 16,
   "id": "04687871",
   "metadata": {
    "ExecuteTime": {
     "end_time": "2023-01-02T16:38:30.568371Z",
     "start_time": "2023-01-02T16:38:30.563475Z"
    }
   },
   "outputs": [
    {
     "name": "stdout",
     "output_type": "stream",
     "text": [
      "BATCHES_SIZE 22499.0 or len(dataloader) 1972\n"
     ]
    }
   ],
   "source": [
    "BATCH_SIZE=4\n",
    "BATCHES_SIZE=length_samples/BATCH_SIZE\n",
    "dataloader = DataLoader(batch_class06, batch_size=BATCH_SIZE, shuffle=True)\n",
    "print(f'BATCHES_SIZE {BATCHES_SIZE} or len(dataloader) {len(dataloader)}')\n"
   ]
  },
  {
   "cell_type": "code",
   "execution_count": 17,
   "id": "b6ff102f",
   "metadata": {
    "ExecuteTime": {
     "end_time": "2023-01-02T16:38:31.100129Z",
     "start_time": "2023-01-02T16:38:30.965954Z"
    }
   },
   "outputs": [
    {
     "name": "stdout",
     "output_type": "stream",
     "text": [
      "batch_idx: 0; sampled images in the batch: 0 of 89996\n",
      "    img.shape: torch.Size([4, 3, 28, 28])\n",
      "    img.dtype: torch.float32\n",
      "    grid_img.shape: torch.Size([3, 32, 122])\n"
     ]
    },
    {
     "data": {
      "image/png": "[encoded data removed]",
      "text/plain": [
       "<Figure size 640x480 with 1 Axes>"
      ]
     },
     "metadata": {},
     "output_type": "display_data"
    },
    {
     "name": "stdout",
     "output_type": "stream",
     "text": [
      "batch_idx: 1000; sampled images in the batch: 4000 of 89996\n",
      "    img.shape: torch.Size([4, 3, 28, 28])\n",
      "    img.dtype: torch.float32\n",
      "    grid_img.shape: torch.Size([3, 32, 122])\n"
     ]
    },
    {
     "data": {
      "image/png": "[encoded data removed]",
      "text/plain": [
       "<Figure size 640x480 with 1 Axes>"
      ]
     },
     "metadata": {},
     "output_type": "display_data"
    }
   ],
   "source": [
    "## Displaying dataloader content\n",
    "len_dataloader = len(dataloader)\n",
    "\n",
    "for batch_idx, batch in enumerate(dataloader):  #iterate through each batch    \n",
    "    if batch_idx % 1000 == 0:\n",
    "        print(f'batch_idx: {batch_idx}; sampled images in the batch: { batch_idx*BATCH_SIZE } of {length_samples}')\n",
    "        #print(batch.shape)\n",
    "        img = batch\n",
    "        print(f'    img.shape: {img.shape}') #torch.Size([BATCH_SIZE, 1, 64, 64])\n",
    "        print(f'    img.dtype: {img.dtype}') #torch.Size([BATCH_SIZE, 1, 64, 64])\n",
    "\n",
    "        grid_img = torchvision.utils.make_grid(img, normalize=True) #also (img, nrow=10)\n",
    "        print(f'    grid_img.shape: {grid_img.shape}')#torch.Size([3, 482, 242])\n",
    "        plt.imshow(grid_img.permute(1, 2, 0))\n",
    "        #plt.imshow(grid_img.permute(1, 2, 0).cpu().numpy() ) \n",
    "        #plt.imshow(grid_img.permute(1, 2, 0).numpy().astype(\"float32\")) \n",
    "        #plt.imshow(grid_img.permute(1, 2, 0).numpy().astype(\"uint8\")) \n",
    "        #plt.imshow(grid_img.permute(1, 2, 0), vmin=0, vmax=1)\n",
    "        #plt.imshow(grid_img.permute(1, 2, 0), clim=(0,1))\n",
    "        #plt.imshow(grid_img.permute(1, 2, 0), cmap='gray', vmin=0, vmax=1)\n",
    "        #plt.imshow(grid_img.permute(1, 2, 0), cmap='gray',  clim=(0,1))\n",
    "        #plt.imshow(grid_img.permute(1, 2, 0).cpu().numpy().astype(\"float32\"), clim=(0,1)) \n",
    "        #plt.imshow(grid_img.permute(1, 2, 0).cpu().numpy().astype(\"float32\")) \n",
    "        #plt.imshow(img, cmap='gray', vmin=0, vmax=1)\n",
    "\n",
    "        \n",
    "        \n",
    "        plt.show()\n",
    "    \n",
    "    "
   ]
  },
  {
   "cell_type": "code",
   "execution_count": 10,
   "id": "228d1e7b",
   "metadata": {
    "ExecuteTime": {
     "end_time": "2023-01-02T16:38:00.362039Z",
     "start_time": "2023-01-02T16:38:00.358446Z"
    }
   },
   "outputs": [],
   "source": [
    "# ls -la"
   ]
  },
  {
   "cell_type": "code",
   "execution_count": 11,
   "id": "e916cc49",
   "metadata": {
    "ExecuteTime": {
     "end_time": "2023-01-02T16:38:00.818031Z",
     "start_time": "2023-01-02T16:38:00.812771Z"
    }
   },
   "outputs": [],
   "source": [
    "os.chdir(mycwd)    # go back where you came from"
   ]
  },
  {
   "cell_type": "code",
   "execution_count": null,
   "id": "4b04551b",
   "metadata": {},
   "outputs": [],
   "source": []
  }
 ],
 "metadata": {
  "kernelspec": {
   "display_name": "Python 3 (ipykernel)",
   "language": "python",
   "name": "python3"
  },
  "language_info": {
   "codemirror_mode": {
    "name": "ipython",
    "version": 3
   },
   "file_extension": ".py",
   "mimetype": "text/x-python",
   "name": "python",
   "nbconvert_exporter": "python",
   "pygments_lexer": "ipython3",
   "version": "3.10.8"
  }
 },
 "nbformat": 4,
 "nbformat_minor": 5
}
