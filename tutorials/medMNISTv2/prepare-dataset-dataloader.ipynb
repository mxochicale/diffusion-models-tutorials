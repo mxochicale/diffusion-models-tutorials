{
 "cells": [
  {
   "cell_type": "code",
   "execution_count": 1,
   "id": "4beff908",
   "metadata": {
    "ExecuteTime": {
     "end_time": "2022-12-28T16:31:11.552126Z",
     "start_time": "2022-12-28T16:31:10.930983Z"
    }
   },
   "outputs": [],
   "source": [
    "import os\n",
    "import numpy as np\n",
    "import torch\n",
    "from torch.utils.data import DataLoader\n",
    "\n",
    "import torchvision\n",
    "from torchvision import transforms\n",
    "\n",
    "import matplotlib.pyplot as plt\n",
    "\n",
    "## References\n",
    "## https://github.com/MedMNIST/MedMNIST/blob/main/medmnist/dataset.py\n",
    "\n"
   ]
  },
  {
   "cell_type": "code",
   "execution_count": 2,
   "id": "f83bc447",
   "metadata": {
    "ExecuteTime": {
     "end_time": "2022-12-28T16:31:11.557776Z",
     "start_time": "2022-12-28T16:31:11.553772Z"
    }
   },
   "outputs": [
    {
     "name": "stdout",
     "output_type": "stream",
     "text": [
      "/home/mxochicale/repositories/mxochicale/diffusion-models-tutorials/datasets/MedMNISTv2/retinamnist.npz\n"
     ]
    }
   ],
   "source": [
    "mycwd = os.getcwd()\n",
    "# print(mycwd)\n",
    "os.chdir(\"../..\")\n",
    "path_datasets_filename = os.getcwd()+'/datasets/MedMNISTv2/retinamnist.npz'\n",
    "print(path_datasets_filename)"
   ]
  },
  {
   "cell_type": "code",
   "execution_count": 3,
   "id": "1600a4a7",
   "metadata": {
    "ExecuteTime": {
     "end_time": "2022-12-28T16:31:11.581383Z",
     "start_time": "2022-12-28T16:31:11.558853Z"
    }
   },
   "outputs": [
    {
     "name": "stdout",
     "output_type": "stream",
     "text": [
      "<class 'numpy.lib.npyio.NpzFile'>\n",
      "KeysView(<numpy.lib.npyio.NpzFile object at 0x7f37215cf1c0>)\n",
      "(1080, 28, 28, 3)\n",
      "(1080, 1)\n",
      "uint8\n",
      "float32\n"
     ]
    }
   ],
   "source": [
    "npz_file = np.load(path_datasets_filename)\n",
    "\n",
    "print(type(npz_file)) #lib.npyio.NpzFile\n",
    "print(npz_file.keys())#KeysView(<numpy.lib.npyio.NpzFile object at 0x7f5ac597d9f0>)\n",
    "\n",
    "train_imgs = npz_file['train_images']\n",
    "train_labels = npz_file['train_labels']\n",
    "#             self.imgs = npz_file['val_images']\n",
    "#             self.labels = npz_file['val_labels']\n",
    "#             self.imgs = npz_file['test_images']\n",
    "#             self.labels = npz_file['test_labels']\n",
    "\n",
    "print(train_imgs.shape)#(1080, 28, 28, 3)\n",
    "print(train_labels.shape)#(1080, 1)\n",
    "print(train_imgs.dtype) #uint8\n",
    "\n",
    "train_imgs_float32 = train_imgs.astype(np.float32)\n",
    "print(train_imgs_float32.dtype) #float32\n",
    "\n",
    "\n",
    "\n"
   ]
  },
  {
   "cell_type": "code",
   "execution_count": 4,
   "id": "ca535fd4",
   "metadata": {
    "ExecuteTime": {
     "end_time": "2022-12-28T16:31:11.584942Z",
     "start_time": "2022-12-28T16:31:11.582719Z"
    }
   },
   "outputs": [],
   "source": [
    "# print(train_labels[0:400])"
   ]
  },
  {
   "cell_type": "code",
   "execution_count": 5,
   "id": "63c3b5dd",
   "metadata": {
    "ExecuteTime": {
     "end_time": "2022-12-28T16:31:11.596977Z",
     "start_time": "2022-12-28T16:31:11.586138Z"
    }
   },
   "outputs": [
    {
     "name": "stdout",
     "output_type": "stream",
     "text": [
      "<class 'torch.Tensor'>\n",
      "torch.Size([1080, 28, 28, 3])\n",
      "torch.Size([1080, 3, 28, 28])\n",
      "torch.Size([1080, 1, 28, 28])\n",
      "torch.uint8\n",
      "torch.int64\n",
      "torch.float32\n",
      "1080\n"
     ]
    }
   ],
   "source": [
    "imagesTensor = torch.tensor(train_imgs)\n",
    "\n",
    "print(type(imagesTensor))#<class 'torch.Tensor'>\n",
    "print(imagesTensor.shape)#torch.Size([1080, 28, 28, 3])\n",
    "imagesTensor = torch.permute(imagesTensor, (0, 3, 1, 2))\n",
    "print(imagesTensor.shape)#torch.Size([1080, 3, 28, 28])\n",
    "\n",
    "number_of_output_channels = 1\n",
    "transform = transforms.Grayscale(num_output_channels=number_of_output_channels)\n",
    "imagesTensorGray = transform(imagesTensor)\n",
    "print(imagesTensorGray.shape)#torch.Size([1080, 1, 28, 28])\n",
    "\n",
    "print(imagesTensorGray.dtype) #torch.uint8\n",
    "imagesTensorGray_int64 = imagesTensorGray.to(torch.long)\n",
    "imagesTensorGray_float32 = imagesTensorGray.to(torch.float32) \n",
    "# imagesTensorGray_float32 = torch.cuda.FloatTensor(imagesTensorGray)\n",
    "#https://pytorch.org/docs/stable/tensors.html\n",
    "\n",
    "print(imagesTensorGray_int64.dtype) #torch.int64\n",
    "print(imagesTensorGray_float32.dtype) #torch.float32\n",
    "\n",
    "\n",
    "print(imagesTensor.shape[0])#1080\n",
    "number_of_images = imagesTensor.shape[0]\n"
   ]
  },
  {
   "cell_type": "code",
   "execution_count": 6,
   "id": "04687871",
   "metadata": {
    "ExecuteTime": {
     "end_time": "2022-12-28T16:31:11.600930Z",
     "start_time": "2022-12-28T16:31:11.598520Z"
    }
   },
   "outputs": [
    {
     "name": "stdout",
     "output_type": "stream",
     "text": [
      "BATCHES_SIZE 270.0 or len(dataloader) 270\n"
     ]
    }
   ],
   "source": [
    "BATCH_SIZE=4\n",
    "BATCHES_SIZE=number_of_images/BATCH_SIZE\n",
    "dataloader = DataLoader(imagesTensorGray_float32, batch_size=BATCH_SIZE, shuffle=True)\n",
    "print(f'BATCHES_SIZE {BATCHES_SIZE} or len(dataloader) {len(dataloader)}')\n"
   ]
  },
  {
   "cell_type": "code",
   "execution_count": 7,
   "id": "b6ff102f",
   "metadata": {
    "ExecuteTime": {
     "end_time": "2022-12-28T16:31:11.760312Z",
     "start_time": "2022-12-28T16:31:11.601937Z"
    }
   },
   "outputs": [
    {
     "name": "stdout",
     "output_type": "stream",
     "text": [
      "batch_idx: 0; sampled images in the batch: 0 of 1080\n",
      "    img.shape: torch.Size([4, 1, 28, 28])\n",
      "    grid_img.shape: torch.Size([3, 32, 122])\n"
     ]
    },
    {
     "data": {
      "image/png": "[encoded data removed]",
      "text/plain": [
       "<Figure size 640x480 with 1 Axes>"
      ]
     },
     "metadata": {},
     "output_type": "display_data"
    },
    {
     "name": "stdout",
     "output_type": "stream",
     "text": [
      "batch_idx: 100; sampled images in the batch: 400 of 1080\n",
      "    img.shape: torch.Size([4, 1, 28, 28])\n",
      "    grid_img.shape: torch.Size([3, 32, 122])\n"
     ]
    },
    {
     "data": {
      "image/png": "[encoded data removed]",
      "text/plain": [
       "<Figure size 640x480 with 1 Axes>"
      ]
     },
     "metadata": {},
     "output_type": "display_data"
    },
    {
     "name": "stdout",
     "output_type": "stream",
     "text": [
      "batch_idx: 200; sampled images in the batch: 800 of 1080\n",
      "    img.shape: torch.Size([4, 1, 28, 28])\n",
      "    grid_img.shape: torch.Size([3, 32, 122])\n"
     ]
    },
    {
     "data": {
      "image/png": "[encoded data removed]",
      "text/plain": [
       "<Figure size 640x480 with 1 Axes>"
      ]
     },
     "metadata": {},
     "output_type": "display_data"
    }
   ],
   "source": [
    "## Displaying dataloader content\n",
    "len_dataloader = len(dataloader)\n",
    "\n",
    "for batch_idx, batch in enumerate(dataloader):  #iterate through each batch    \n",
    "    if batch_idx % 100 == 0:\n",
    "        print(f'batch_idx: {batch_idx}; sampled images in the batch: { batch_idx*BATCH_SIZE } of {number_of_images}')\n",
    "        #print(batch.shape)\n",
    "        img = batch\n",
    "        print(f'    img.shape: {img.shape}') #torch.Size([BATCH_SIZE, 1, 64, 64])\n",
    "        grid_img = torchvision.utils.make_grid(img) #also (img, nrow=10)\n",
    "        print(f'    grid_img.shape: {grid_img.shape}')#torch.Size([3, 482, 242])\n",
    "        #plt.imshow(grid_img.permute(1, 2, 0)) \n",
    "        plt.imshow(grid_img.permute(1, 2, 0).cpu().numpy().astype(\"uint8\")) \n",
    "\n",
    "        plt.show()\n",
    "    \n",
    "    "
   ]
  },
  {
   "cell_type": "code",
   "execution_count": 8,
   "id": "228d1e7b",
   "metadata": {
    "ExecuteTime": {
     "end_time": "2022-12-28T16:31:11.762975Z",
     "start_time": "2022-12-28T16:31:11.761251Z"
    }
   },
   "outputs": [],
   "source": [
    "# ls -la"
   ]
  },
  {
   "cell_type": "code",
   "execution_count": 9,
   "id": "e916cc49",
   "metadata": {
    "ExecuteTime": {
     "end_time": "2022-12-28T16:31:11.766323Z",
     "start_time": "2022-12-28T16:31:11.763675Z"
    }
   },
   "outputs": [],
   "source": [
    "os.chdir(mycwd)    # go back where you came from"
   ]
  },
  {
   "cell_type": "code",
   "execution_count": null,
   "id": "4b04551b",
   "metadata": {},
   "outputs": [],
   "source": []
  }
 ],
 "metadata": {
  "kernelspec": {
   "display_name": "Python 3 (ipykernel)",
   "language": "python",
   "name": "python3"
  },
  "language_info": {
   "codemirror_mode": {
    "name": "ipython",
    "version": 3
   },
   "file_extension": ".py",
   "mimetype": "text/x-python",
   "name": "python",
   "nbconvert_exporter": "python",
   "pygments_lexer": "ipython3",
   "version": "3.10.8"
  }
 },
 "nbformat": 4,
 "nbformat_minor": 5
}
